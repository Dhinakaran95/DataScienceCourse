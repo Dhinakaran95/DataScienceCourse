{
  "nbformat": 4,
  "nbformat_minor": 0,
  "metadata": {
    "colab": {
      "name": "Assignment1.ipynb",
      "provenance": []
    },
    "kernelspec": {
      "name": "python3",
      "display_name": "Python 3"
    }
  },
  "cells": [
    {
      "cell_type": "code",
      "metadata": {
        "id": "RnRNRrc8Bcyk",
        "outputId": "2d4bbe98-249e-4f12-c497-2d3f55d61a6d",
        "colab": {
          "base_uri": "https://localhost:8080/"
        }
      },
      "source": [
        "print(\"RAINBOW\")"
      ],
      "execution_count": 1,
      "outputs": [
        {
          "output_type": "stream",
          "text": [
            "RAINBOW\n"
          ],
          "name": "stdout"
        }
      ]
    },
    {
      "cell_type": "code",
      "metadata": {
        "id": "MfsaNzkN8lvW",
        "outputId": "f67360f3-d466-4316-b31c-dbf8485a21cf",
        "colab": {
          "base_uri": "https://localhost:8080/"
        }
      },
      "source": [
        "x=\"Lets upgrade\"\n",
        "print(x.upper())"
      ],
      "execution_count": 2,
      "outputs": [
        {
          "output_type": "stream",
          "text": [
            "LETS UPGRADE\n"
          ],
          "name": "stdout"
        }
      ]
    },
    {
      "cell_type": "code",
      "metadata": {
        "id": "EWcfyBPJ9i81",
        "outputId": "cb76f998-85f9-43fc-d02d-239fe735ea98",
        "colab": {
          "base_uri": "https://localhost:8080/"
        }
      },
      "source": [
        "costp=int(input())\n",
        "sellingp=int(input())\n",
        "if costp<sellingp:\n",
        "  print(\"Profit\")\n",
        "elif costp>sellingp:\n",
        "  print(\"Loss\")\n",
        "else :\n",
        "  print(\"Neither\")"
      ],
      "execution_count": 5,
      "outputs": [
        {
          "output_type": "stream",
          "text": [
            "20\n",
            "10\n",
            "Loss\n"
          ],
          "name": "stdout"
        }
      ]
    },
    {
      "cell_type": "code",
      "metadata": {
        "id": "9Y71KslIAjCK",
        "outputId": "7c6579d2-a9e4-4a54-9308-8cbd3c880734",
        "colab": {
          "base_uri": "https://localhost:8080/"
        }
      },
      "source": [
        "Euro=int(input())\n",
        "print(Euro*80)"
      ],
      "execution_count": 6,
      "outputs": [
        {
          "output_type": "stream",
          "text": [
            "20\n",
            "1600\n"
          ],
          "name": "stdout"
        }
      ]
    }
  ]
}